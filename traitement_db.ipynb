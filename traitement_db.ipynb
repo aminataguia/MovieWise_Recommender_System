{
 "cells": [
  {
   "cell_type": "code",
   "execution_count": 1,
   "metadata": {},
   "outputs": [
    {
     "name": "stdout",
     "output_type": "stream",
     "text": [
      "c:\\Users\\Utilisateur\\anaconda3\\python.exe\n"
     ]
    }
   ],
   "source": [
    "import numpy as np\n",
    "import pymongo\n",
    "from sklearn.decomposition import NMF\n",
    "from sklearn.metrics import mean_squared_error\n",
    "import pandas as pd\n",
    "import matplotlib.pyplot as plt\n",
    "import mongo as MongoClient\n",
    "import sys\n",
    "print(sys.executable)\n"
   ]
  },
  {
   "cell_type": "markdown",
   "metadata": {},
   "source": []
  },
  {
   "cell_type": "code",
   "execution_count": 2,
   "metadata": {},
   "outputs": [
    {
     "ename": "TypeError",
     "evalue": "'module' object is not callable",
     "output_type": "error",
     "traceback": [
      "\u001b[1;31m---------------------------------------------------------------------------\u001b[0m",
      "\u001b[1;31mTypeError\u001b[0m                                 Traceback (most recent call last)",
      "Cell \u001b[1;32mIn[2], line 3\u001b[0m\n\u001b[0;32m      1\u001b[0m uri \u001b[38;5;241m=\u001b[39m \u001b[38;5;124m\"\u001b[39m\u001b[38;5;124mmongodb://localhost:27017\u001b[39m\u001b[38;5;124m\"\u001b[39m\n\u001b[1;32m----> 3\u001b[0m client \u001b[38;5;241m=\u001b[39m MongoClient(uri)\n\u001b[0;32m      5\u001b[0m db \u001b[38;5;241m=\u001b[39m client[\u001b[38;5;124m\"\u001b[39m\u001b[38;5;124mmovie\u001b[39m\u001b[38;5;124m\"\u001b[39m]\n\u001b[0;32m      6\u001b[0m collection_movie \u001b[38;5;241m=\u001b[39m db[\u001b[38;5;124m\"\u001b[39m\u001b[38;5;124mmovie_json\u001b[39m\u001b[38;5;124m\"\u001b[39m]\n",
      "\u001b[1;31mTypeError\u001b[0m: 'module' object is not callable"
     ]
    }
   ],
   "source": [
    "\n",
    "\n",
    "uri = \"mongodb://localhost:27017\"\n",
    "\n",
    "client = MongoClient(uri)\n",
    "\n",
    "db = client[\"movie\"]\n",
    "collection_movie = db[\"movie_json\"]\n",
    "collection_user = db[\"user_json\"]\n"
   ]
  },
  {
   "cell_type": "code",
   "execution_count": null,
   "metadata": {},
   "outputs": [
    {
     "ename": "NameError",
     "evalue": "name 'collection_movie' is not defined",
     "output_type": "error",
     "traceback": [
      "\u001b[1;31m---------------------------------------------------------------------------\u001b[0m",
      "\u001b[1;31mNameError\u001b[0m                                 Traceback (most recent call last)",
      "Cell \u001b[1;32mIn[3], line 2\u001b[0m\n\u001b[0;32m      1\u001b[0m \u001b[38;5;66;03m# essais interrogation data movie Q0\u001b[39;00m\n\u001b[1;32m----> 2\u001b[0m documents \u001b[38;5;241m=\u001b[39m collection_movie\u001b[38;5;241m.\u001b[39mfind()\u001b[38;5;241m.\u001b[39mlimit(\u001b[38;5;241m1\u001b[39m)\n\u001b[0;32m      3\u001b[0m \u001b[38;5;28;01mfor\u001b[39;00m document \u001b[38;5;129;01min\u001b[39;00m documents:\n\u001b[0;32m      4\u001b[0m     \u001b[38;5;28mprint\u001b[39m(\u001b[38;5;124m\"\u001b[39m\u001b[38;5;124mQ0\u001b[39m\u001b[38;5;124m\"\u001b[39m,document)\n",
      "\u001b[1;31mNameError\u001b[0m: name 'collection_movie' is not defined"
     ]
    }
   ],
   "source": [
    "# essais interrogation data movie Q0\n",
    "documents = collection_movie.find().limit(1)\n",
    "for document in documents:\n",
    "    print(\"Q0\",document)\n",
    "\n",
    "# essais interrogation data user Q0\n",
    "documents = collection_user.find().limit(1)\n",
    "for document in documents:\n",
    "    print(\"Q0\", document)\n",
    "print(documents)\n"
   ]
  },
  {
   "cell_type": "code",
   "execution_count": null,
   "metadata": {},
   "outputs": [],
   "source": [
    "# combien de categorie de film y a til \n",
    "# Définir la requête d'agrégation\n",
    "pipeline = [\n",
    "    {\n",
    "        '$project': {\n",
    "            'genres': {'$split': ['$genres', '|']}  # Séparer les genres en une liste\n",
    "        }\n",
    "    },\n",
    "    {\n",
    "        '$unwind': '$genres'  # Décomposer les listes de genres en documents individuels\n",
    "    },\n",
    "    {\n",
    "        '$group': {\n",
    "            '_id': '$genres',  # Grouper par genre\n",
    "            'count': {'$sum': 1}  # Compter le nombre de films dans chaque genre\n",
    "        }\n",
    "    },\n",
    "    {\n",
    "        '$project': {\n",
    "            '_id': 0,  # Ne pas inclure l'identifiant\n",
    "            'genre': '$_id',  # Renommer l'attribut _id en genre\n",
    "            'count': 1  # Inclure le nombre de films dans chaque genre\n",
    "        }\n",
    "    }\n",
    "]\n",
    "\n",
    "# Exécuter la requête d'agrégation\n",
    "result = collection_movie.aggregate(pipeline)\n",
    "\n",
    "# Afficher les résultats\n",
    "for genre in result:\n",
    "    print(genre['genre'], \"-\", genre['count'])\n",
    "\n"
   ]
  },
  {
   "cell_type": "code",
   "execution_count": null,
   "metadata": {},
   "outputs": [],
   "source": [
    "distinct_genres = collection_movie.aggregate([\n",
    "    {\n",
    "        \"$project\": {\n",
    "            \"genres\": {\"$split\": [\"$genres\", \"|\"]}\n",
    "        }\n",
    "    },{\n",
    "        \"$unwind\": \"$genres\"\n",
    "    },\n",
    "    {\n",
    "        \"$group\": {\n",
    "            \"_id\": \"$genres\",\n",
    "            \"count\": {\"$sum\": 1}\n",
    "        }\n",
    "    },\n",
    "    {\n",
    "        \"$sort\": {\n",
    "            \"count\": -1\n",
    "        }\n",
    "    }\n",
    "])\n",
    "\n",
    "[genre for genre in distinct_genres]\n"
   ]
  },
  {
   "cell_type": "code",
   "execution_count": null,
   "metadata": {},
   "outputs": [],
   "source": [
    "# Voici le filtre pour avoir acces uniquement à l'action et a la comedie \n",
    "movie_ids = { 'genres': { '$in': [\"Children's\", \"Horror\"] } }\n",
    "result = collection_movie.find(movie_ids)\n",
    "for film in result:\n",
    "    print(film['title'], \"-\", film['genres'])"
   ]
  },
  {
   "cell_type": "code",
   "execution_count": null,
   "metadata": {},
   "outputs": [],
   "source": [
    "# Définir la requête pour la jointure entre les collections\n",
    "pipeline = [\n",
    "    {\n",
    "        '$match': movie_ids  # Filtre les films en fonction des genres spécifiés\n",
    "    },\n",
    "    {\n",
    "        '$lookup': {\n",
    "            'from': 'user_json',  # Nom de la collection des utilisateurs\n",
    "            'localField': '_id',  # Champ local à partir duquel faire la jointure (dans la collection de films)\n",
    "            'foreignField': 'movie_id',  # Champ étranger à partir duquel faire la jointure (dans la collection d'utilisateurs)\n",
    "            'as': 'user_ratings'  # Nom de la liste dans laquelle stocker les évaluations des utilisateurs\n",
    "        }\n",
    "    },\n",
    "    {\n",
    "        '$unwind': {\n",
    "            'path': '$user_ratings',  # Décompose les évaluations des utilisateurs en documents individuels\n",
    "            'preserveNullAndEmptyArrays': True  # Préserver les documents sans correspondance lors de la jointure\n",
    "        }\n",
    "    },\n",
    "    {\n",
    "        '$project': {\n",
    "            'title': 1,  # Inclure le titre du film\n",
    "            'genres': 1,  # Inclure les genres du film\n",
    "            'user_id': '$user_ratings.user_id',  # Récupérer l'identifiant de l'utilisateur\n",
    "            'rating': '$user_ratings.rating'  # Récupérer l'évaluation de l'utilisateur\n",
    "        }\n",
    "    }\n",
    "]\n",
    "\n",
    "# Exécuter la requête d'agrégation\n",
    "result = collection_movie.aggregate(pipeline)\n",
    "\n",
    "# Afficher les résultats\n",
    "for film in result:\n",
    "    print(\"Titre:\", film['title'])\n",
    "    print(\"Genres:\", film['genres'])\n",
    "    print(\"Identifiant de l'utilisateur:\", film['user_id'])\n",
    "    print(\"Évaluation:\", film['rating'])\n",
    "    print(\"--------------------------------\")\n",
    "\n"
   ]
  }
 ],
 "metadata": {
  "kernelspec": {
   "display_name": "Python 3",
   "language": "python",
   "name": "python3"
  },
  "language_info": {
   "codemirror_mode": {
    "name": "ipython",
    "version": 3
   },
   "file_extension": ".py",
   "mimetype": "text/x-python",
   "name": "python",
   "nbconvert_exporter": "python",
   "pygments_lexer": "ipython3",
   "version": "3.11.5"
  }
 },
 "nbformat": 4,
 "nbformat_minor": 2
}
