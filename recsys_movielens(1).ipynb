{
 "cells": [
  {
   "cell_type": "code",
   "execution_count": 1,
   "id": "8f1075ba-d9e1-482c-b8e7-4863a06d5086",
   "metadata": {},
   "outputs": [],
   "source": [
    "#pip install pymongo"
   ]
  },
  {
   "cell_type": "code",
   "execution_count": 2,
   "id": "620d1941-514a-4824-8ee8-07b5def64842",
   "metadata": {},
   "outputs": [],
   "source": [
    "import numpy as np\n",
    "import pymongo\n",
    "from sklearn.decomposition import NMF\n",
    "from sklearn.metrics import mean_squared_error\n",
    "import pandas as pd\n",
    "import matplotlib.pyplot as plt\n",
    "from sklearn.metrics import mean_squared_error\n",
    "from sklearn.model_selection import train_test_split\n",
    "\n",
    "\n"
   ]
  },
  {
   "cell_type": "code",
   "execution_count": 3,
   "id": "5930c29f-81f9-43b1-a370-904b4048b9c9",
   "metadata": {},
   "outputs": [],
   "source": [
    "client = pymongo.MongoClient('localhost:27017')\n",
    "\n",
    "db = client['movie']\n",
    "\n",
    "movies = db['movie_json']\n",
    "users = db['user_json']"
   ]
  },
  {
   "cell_type": "code",
   "execution_count": 4,
   "id": "16bde3b2-1238-463f-bf95-aad7fb91531d",
   "metadata": {},
   "outputs": [
    {
     "ename": "ServerSelectionTimeoutError",
     "evalue": "localhost:27017: [Errno 111] Connection refused (configured timeouts: socketTimeoutMS: 20000.0ms, connectTimeoutMS: 20000.0ms), Timeout: 30s, Topology Description: <TopologyDescription id: 65cb48c8d80eb9a5b310e04f, topology_type: Unknown, servers: [<ServerDescription ('localhost', 27017) server_type: Unknown, rtt: None, error=AutoReconnect('localhost:27017: [Errno 111] Connection refused (configured timeouts: socketTimeoutMS: 20000.0ms, connectTimeoutMS: 20000.0ms)')>]>",
     "output_type": "error",
     "traceback": [
      "\u001b[0;31m---------------------------------------------------------------------------\u001b[0m",
      "\u001b[0;31mServerSelectionTimeoutError\u001b[0m               Traceback (most recent call last)",
      "Cell \u001b[0;32mIn[4], line 1\u001b[0m\n\u001b[0;32m----> 1\u001b[0m distinct_genres \u001b[38;5;241m=\u001b[39m movies\u001b[38;5;241m.\u001b[39maggregate([\n\u001b[1;32m      2\u001b[0m     {\n\u001b[1;32m      3\u001b[0m         \u001b[38;5;124m\"\u001b[39m\u001b[38;5;124m$project\u001b[39m\u001b[38;5;124m\"\u001b[39m: {\n\u001b[1;32m      4\u001b[0m             \u001b[38;5;124m\"\u001b[39m\u001b[38;5;124mgenres\u001b[39m\u001b[38;5;124m\"\u001b[39m: {\u001b[38;5;124m\"\u001b[39m\u001b[38;5;124m$split\u001b[39m\u001b[38;5;124m\"\u001b[39m: [\u001b[38;5;124m\"\u001b[39m\u001b[38;5;124m$genres\u001b[39m\u001b[38;5;124m\"\u001b[39m, \u001b[38;5;124m\"\u001b[39m\u001b[38;5;124m|\u001b[39m\u001b[38;5;124m\"\u001b[39m]}\n\u001b[1;32m      5\u001b[0m         }\n\u001b[1;32m      6\u001b[0m     },{\n\u001b[1;32m      7\u001b[0m         \u001b[38;5;124m\"\u001b[39m\u001b[38;5;124m$unwind\u001b[39m\u001b[38;5;124m\"\u001b[39m: \u001b[38;5;124m\"\u001b[39m\u001b[38;5;124m$genres\u001b[39m\u001b[38;5;124m\"\u001b[39m\n\u001b[1;32m      8\u001b[0m     },\n\u001b[1;32m      9\u001b[0m     {\n\u001b[1;32m     10\u001b[0m         \u001b[38;5;124m\"\u001b[39m\u001b[38;5;124m$group\u001b[39m\u001b[38;5;124m\"\u001b[39m: {\n\u001b[1;32m     11\u001b[0m             \u001b[38;5;124m\"\u001b[39m\u001b[38;5;124m_id\u001b[39m\u001b[38;5;124m\"\u001b[39m: \u001b[38;5;124m\"\u001b[39m\u001b[38;5;124m$genres\u001b[39m\u001b[38;5;124m\"\u001b[39m,\n\u001b[1;32m     12\u001b[0m             \u001b[38;5;124m\"\u001b[39m\u001b[38;5;124mcount\u001b[39m\u001b[38;5;124m\"\u001b[39m: {\u001b[38;5;124m\"\u001b[39m\u001b[38;5;124m$sum\u001b[39m\u001b[38;5;124m\"\u001b[39m: \u001b[38;5;241m1\u001b[39m}\n\u001b[1;32m     13\u001b[0m         }\n\u001b[1;32m     14\u001b[0m     },\n\u001b[1;32m     15\u001b[0m     {\n\u001b[1;32m     16\u001b[0m         \u001b[38;5;124m\"\u001b[39m\u001b[38;5;124m$sort\u001b[39m\u001b[38;5;124m\"\u001b[39m: {\n\u001b[1;32m     17\u001b[0m             \u001b[38;5;124m\"\u001b[39m\u001b[38;5;124mcount\u001b[39m\u001b[38;5;124m\"\u001b[39m: \u001b[38;5;241m-\u001b[39m\u001b[38;5;241m1\u001b[39m\n\u001b[1;32m     18\u001b[0m         }\n\u001b[1;32m     19\u001b[0m     }\n\u001b[1;32m     20\u001b[0m ])\n\u001b[1;32m     22\u001b[0m [genre \u001b[38;5;28;01mfor\u001b[39;00m genre \u001b[38;5;129;01min\u001b[39;00m distinct_genres]\n",
      "File \u001b[0;32m~/miniconda3/lib/python3.11/site-packages/pymongo/collection.py:2719\u001b[0m, in \u001b[0;36mCollection.aggregate\u001b[0;34m(self, pipeline, session, let, comment, **kwargs)\u001b[0m\n\u001b[1;32m   2634\u001b[0m \u001b[38;5;28;01mdef\u001b[39;00m \u001b[38;5;21maggregate\u001b[39m(\n\u001b[1;32m   2635\u001b[0m     \u001b[38;5;28mself\u001b[39m,\n\u001b[1;32m   2636\u001b[0m     pipeline: _Pipeline,\n\u001b[0;32m   (...)\u001b[0m\n\u001b[1;32m   2640\u001b[0m     \u001b[38;5;241m*\u001b[39m\u001b[38;5;241m*\u001b[39mkwargs: Any,\n\u001b[1;32m   2641\u001b[0m ) \u001b[38;5;241m-\u001b[39m\u001b[38;5;241m>\u001b[39m CommandCursor[_DocumentType]:\n\u001b[1;32m   2642\u001b[0m \u001b[38;5;250m    \u001b[39m\u001b[38;5;124;03m\"\"\"Perform an aggregation using the aggregation framework on this\u001b[39;00m\n\u001b[1;32m   2643\u001b[0m \u001b[38;5;124;03m    collection.\u001b[39;00m\n\u001b[1;32m   2644\u001b[0m \n\u001b[0;32m   (...)\u001b[0m\n\u001b[1;32m   2717\u001b[0m \u001b[38;5;124;03m        https://mongodb.com/docs/manual/reference/command/aggregate\u001b[39;00m\n\u001b[1;32m   2718\u001b[0m \u001b[38;5;124;03m    \"\"\"\u001b[39;00m\n\u001b[0;32m-> 2719\u001b[0m     \u001b[38;5;28;01mwith\u001b[39;00m \u001b[38;5;28mself\u001b[39m\u001b[38;5;241m.\u001b[39m__database\u001b[38;5;241m.\u001b[39mclient\u001b[38;5;241m.\u001b[39m_tmp_session(session, close\u001b[38;5;241m=\u001b[39m\u001b[38;5;28;01mFalse\u001b[39;00m) \u001b[38;5;28;01mas\u001b[39;00m s:\n\u001b[1;32m   2720\u001b[0m         \u001b[38;5;28;01mreturn\u001b[39;00m \u001b[38;5;28mself\u001b[39m\u001b[38;5;241m.\u001b[39m_aggregate(\n\u001b[1;32m   2721\u001b[0m             _CollectionAggregationCommand,\n\u001b[1;32m   2722\u001b[0m             pipeline,\n\u001b[0;32m   (...)\u001b[0m\n\u001b[1;32m   2728\u001b[0m             \u001b[38;5;241m*\u001b[39m\u001b[38;5;241m*\u001b[39mkwargs,\n\u001b[1;32m   2729\u001b[0m         )\n",
      "File \u001b[0;32m~/miniconda3/lib/python3.11/contextlib.py:137\u001b[0m, in \u001b[0;36m_GeneratorContextManager.__enter__\u001b[0;34m(self)\u001b[0m\n\u001b[1;32m    135\u001b[0m \u001b[38;5;28;01mdel\u001b[39;00m \u001b[38;5;28mself\u001b[39m\u001b[38;5;241m.\u001b[39margs, \u001b[38;5;28mself\u001b[39m\u001b[38;5;241m.\u001b[39mkwds, \u001b[38;5;28mself\u001b[39m\u001b[38;5;241m.\u001b[39mfunc\n\u001b[1;32m    136\u001b[0m \u001b[38;5;28;01mtry\u001b[39;00m:\n\u001b[0;32m--> 137\u001b[0m     \u001b[38;5;28;01mreturn\u001b[39;00m \u001b[38;5;28mnext\u001b[39m(\u001b[38;5;28mself\u001b[39m\u001b[38;5;241m.\u001b[39mgen)\n\u001b[1;32m    138\u001b[0m \u001b[38;5;28;01mexcept\u001b[39;00m \u001b[38;5;167;01mStopIteration\u001b[39;00m:\n\u001b[1;32m    139\u001b[0m     \u001b[38;5;28;01mraise\u001b[39;00m \u001b[38;5;167;01mRuntimeError\u001b[39;00m(\u001b[38;5;124m\"\u001b[39m\u001b[38;5;124mgenerator didn\u001b[39m\u001b[38;5;124m'\u001b[39m\u001b[38;5;124mt yield\u001b[39m\u001b[38;5;124m\"\u001b[39m) \u001b[38;5;28;01mfrom\u001b[39;00m \u001b[38;5;28;01mNone\u001b[39;00m\n",
      "File \u001b[0;32m~/miniconda3/lib/python3.11/site-packages/pymongo/mongo_client.py:1840\u001b[0m, in \u001b[0;36mMongoClient._tmp_session\u001b[0;34m(self, session, close)\u001b[0m\n\u001b[1;32m   1837\u001b[0m     \u001b[38;5;28;01myield\u001b[39;00m session\n\u001b[1;32m   1838\u001b[0m     \u001b[38;5;28;01mreturn\u001b[39;00m\n\u001b[0;32m-> 1840\u001b[0m s \u001b[38;5;241m=\u001b[39m \u001b[38;5;28mself\u001b[39m\u001b[38;5;241m.\u001b[39m_ensure_session(session)\n\u001b[1;32m   1841\u001b[0m \u001b[38;5;28;01mif\u001b[39;00m s:\n\u001b[1;32m   1842\u001b[0m     \u001b[38;5;28;01mtry\u001b[39;00m:\n",
      "File \u001b[0;32m~/miniconda3/lib/python3.11/site-packages/pymongo/mongo_client.py:1823\u001b[0m, in \u001b[0;36mMongoClient._ensure_session\u001b[0;34m(self, session)\u001b[0m\n\u001b[1;32m   1818\u001b[0m     \u001b[38;5;28;01mreturn\u001b[39;00m session\n\u001b[1;32m   1820\u001b[0m \u001b[38;5;28;01mtry\u001b[39;00m:\n\u001b[1;32m   1821\u001b[0m     \u001b[38;5;66;03m# Don't make implicit sessions causally consistent. Applications\u001b[39;00m\n\u001b[1;32m   1822\u001b[0m     \u001b[38;5;66;03m# should always opt-in.\u001b[39;00m\n\u001b[0;32m-> 1823\u001b[0m     \u001b[38;5;28;01mreturn\u001b[39;00m \u001b[38;5;28mself\u001b[39m\u001b[38;5;241m.\u001b[39m__start_session(\u001b[38;5;28;01mTrue\u001b[39;00m, causal_consistency\u001b[38;5;241m=\u001b[39m\u001b[38;5;28;01mFalse\u001b[39;00m)\n\u001b[1;32m   1824\u001b[0m \u001b[38;5;28;01mexcept\u001b[39;00m (ConfigurationError, InvalidOperation):\n\u001b[1;32m   1825\u001b[0m     \u001b[38;5;66;03m# Sessions not supported.\u001b[39;00m\n\u001b[1;32m   1826\u001b[0m     \u001b[38;5;28;01mreturn\u001b[39;00m \u001b[38;5;28;01mNone\u001b[39;00m\n",
      "File \u001b[0;32m~/miniconda3/lib/python3.11/site-packages/pymongo/mongo_client.py:1766\u001b[0m, in \u001b[0;36mMongoClient.__start_session\u001b[0;34m(self, implicit, **kwargs)\u001b[0m\n\u001b[1;32m   1763\u001b[0m \u001b[38;5;28;01mdef\u001b[39;00m \u001b[38;5;21m__start_session\u001b[39m(\u001b[38;5;28mself\u001b[39m, implicit: \u001b[38;5;28mbool\u001b[39m, \u001b[38;5;241m*\u001b[39m\u001b[38;5;241m*\u001b[39mkwargs: Any) \u001b[38;5;241m-\u001b[39m\u001b[38;5;241m>\u001b[39m ClientSession:\n\u001b[1;32m   1764\u001b[0m     \u001b[38;5;66;03m# Raises ConfigurationError if sessions are not supported.\u001b[39;00m\n\u001b[1;32m   1765\u001b[0m     \u001b[38;5;28;01mif\u001b[39;00m implicit:\n\u001b[0;32m-> 1766\u001b[0m         \u001b[38;5;28mself\u001b[39m\u001b[38;5;241m.\u001b[39m_topology\u001b[38;5;241m.\u001b[39m_check_implicit_session_support()\n\u001b[1;32m   1767\u001b[0m         server_session: Union[_EmptyServerSession, _ServerSession] \u001b[38;5;241m=\u001b[39m _EmptyServerSession()\n\u001b[1;32m   1768\u001b[0m     \u001b[38;5;28;01melse\u001b[39;00m:\n",
      "File \u001b[0;32m~/miniconda3/lib/python3.11/site-packages/pymongo/topology.py:573\u001b[0m, in \u001b[0;36mTopology._check_implicit_session_support\u001b[0;34m(self)\u001b[0m\n\u001b[1;32m    571\u001b[0m \u001b[38;5;28;01mdef\u001b[39;00m \u001b[38;5;21m_check_implicit_session_support\u001b[39m(\u001b[38;5;28mself\u001b[39m) \u001b[38;5;241m-\u001b[39m\u001b[38;5;241m>\u001b[39m \u001b[38;5;28;01mNone\u001b[39;00m:\n\u001b[1;32m    572\u001b[0m     \u001b[38;5;28;01mwith\u001b[39;00m \u001b[38;5;28mself\u001b[39m\u001b[38;5;241m.\u001b[39m_lock:\n\u001b[0;32m--> 573\u001b[0m         \u001b[38;5;28mself\u001b[39m\u001b[38;5;241m.\u001b[39m_check_session_support()\n",
      "File \u001b[0;32m~/miniconda3/lib/python3.11/site-packages/pymongo/topology.py:589\u001b[0m, in \u001b[0;36mTopology._check_session_support\u001b[0;34m(self)\u001b[0m\n\u001b[1;32m    585\u001b[0m         \u001b[38;5;28mself\u001b[39m\u001b[38;5;241m.\u001b[39m_select_servers_loop(\n\u001b[1;32m    586\u001b[0m             any_server_selector, \u001b[38;5;28mself\u001b[39m\u001b[38;5;241m.\u001b[39mget_server_selection_timeout(), \u001b[38;5;28;01mNone\u001b[39;00m\n\u001b[1;32m    587\u001b[0m         )\n\u001b[1;32m    588\u001b[0m \u001b[38;5;28;01melif\u001b[39;00m \u001b[38;5;129;01mnot\u001b[39;00m \u001b[38;5;28mself\u001b[39m\u001b[38;5;241m.\u001b[39m_description\u001b[38;5;241m.\u001b[39mreadable_servers:\n\u001b[0;32m--> 589\u001b[0m     \u001b[38;5;28mself\u001b[39m\u001b[38;5;241m.\u001b[39m_select_servers_loop(\n\u001b[1;32m    590\u001b[0m         readable_server_selector, \u001b[38;5;28mself\u001b[39m\u001b[38;5;241m.\u001b[39mget_server_selection_timeout(), \u001b[38;5;28;01mNone\u001b[39;00m\n\u001b[1;32m    591\u001b[0m     )\n\u001b[1;32m    593\u001b[0m session_timeout \u001b[38;5;241m=\u001b[39m \u001b[38;5;28mself\u001b[39m\u001b[38;5;241m.\u001b[39m_description\u001b[38;5;241m.\u001b[39mlogical_session_timeout_minutes\n\u001b[1;32m    594\u001b[0m \u001b[38;5;28;01mif\u001b[39;00m session_timeout \u001b[38;5;129;01mis\u001b[39;00m \u001b[38;5;28;01mNone\u001b[39;00m:\n",
      "File \u001b[0;32m~/miniconda3/lib/python3.11/site-packages/pymongo/topology.py:259\u001b[0m, in \u001b[0;36mTopology._select_servers_loop\u001b[0;34m(self, selector, timeout, address)\u001b[0m\n\u001b[1;32m    256\u001b[0m \u001b[38;5;28;01mwhile\u001b[39;00m \u001b[38;5;129;01mnot\u001b[39;00m server_descriptions:\n\u001b[1;32m    257\u001b[0m     \u001b[38;5;66;03m# No suitable servers.\u001b[39;00m\n\u001b[1;32m    258\u001b[0m     \u001b[38;5;28;01mif\u001b[39;00m timeout \u001b[38;5;241m==\u001b[39m \u001b[38;5;241m0\u001b[39m \u001b[38;5;129;01mor\u001b[39;00m now \u001b[38;5;241m>\u001b[39m end_time:\n\u001b[0;32m--> 259\u001b[0m         \u001b[38;5;28;01mraise\u001b[39;00m ServerSelectionTimeoutError(\n\u001b[1;32m    260\u001b[0m             \u001b[38;5;124mf\u001b[39m\u001b[38;5;124m\"\u001b[39m\u001b[38;5;132;01m{\u001b[39;00m\u001b[38;5;28mself\u001b[39m\u001b[38;5;241m.\u001b[39m_error_message(selector)\u001b[38;5;132;01m}\u001b[39;00m\u001b[38;5;124m, Timeout: \u001b[39m\u001b[38;5;132;01m{\u001b[39;00mtimeout\u001b[38;5;132;01m}\u001b[39;00m\u001b[38;5;124ms, Topology Description: \u001b[39m\u001b[38;5;132;01m{\u001b[39;00m\u001b[38;5;28mself\u001b[39m\u001b[38;5;241m.\u001b[39mdescription\u001b[38;5;132;01m!r}\u001b[39;00m\u001b[38;5;124m\"\u001b[39m\n\u001b[1;32m    261\u001b[0m         )\n\u001b[1;32m    263\u001b[0m     \u001b[38;5;28mself\u001b[39m\u001b[38;5;241m.\u001b[39m_ensure_opened()\n\u001b[1;32m    264\u001b[0m     \u001b[38;5;28mself\u001b[39m\u001b[38;5;241m.\u001b[39m_request_check_all()\n",
      "\u001b[0;31mServerSelectionTimeoutError\u001b[0m: localhost:27017: [Errno 111] Connection refused (configured timeouts: socketTimeoutMS: 20000.0ms, connectTimeoutMS: 20000.0ms), Timeout: 30s, Topology Description: <TopologyDescription id: 65cb48c8d80eb9a5b310e04f, topology_type: Unknown, servers: [<ServerDescription ('localhost', 27017) server_type: Unknown, rtt: None, error=AutoReconnect('localhost:27017: [Errno 111] Connection refused (configured timeouts: socketTimeoutMS: 20000.0ms, connectTimeoutMS: 20000.0ms)')>]>"
     ]
    }
   ],
   "source": [
    "distinct_genres = movies.aggregate([\n",
    "    {\n",
    "        \"$project\": {\n",
    "            \"genres\": {\"$split\": [\"$genres\", \"|\"]}\n",
    "        }\n",
    "    },{\n",
    "        \"$unwind\": \"$genres\"\n",
    "    },\n",
    "    {\n",
    "        \"$group\": {\n",
    "            \"_id\": \"$genres\",\n",
    "            \"count\": {\"$sum\": 1}\n",
    "        }\n",
    "    },\n",
    "    {\n",
    "        \"$sort\": {\n",
    "            \"count\": -1\n",
    "        }\n",
    "    }\n",
    "])\n",
    "\n",
    "[genre for genre in distinct_genres]"
   ]
  },
  {
   "cell_type": "code",
   "execution_count": 5,
   "id": "82b5a784-6e01-460a-ac77-5ab897a52e5b",
   "metadata": {},
   "outputs": [],
   "source": [
    "desired_genres = ['Comedy', 'Horror']\n",
    "filtered_movies = movies.find({\"genres\": {\"$regex\": f\".*{'|'.join(desired_genres)}.*\"}})"
   ]
  },
  {
   "cell_type": "code",
   "execution_count": null,
   "id": "a2987f4b-8148-4ca6-b38f-e0ef9815aa6a",
   "metadata": {},
   "outputs": [],
   "source": [
    "list(filtered_movies)"
   ]
  },
  {
   "cell_type": "code",
   "execution_count": null,
   "id": "3f724e4e-445b-4bc3-a6be-a1863ba5b92c",
   "metadata": {},
   "outputs": [],
   "source": [
    "movies_ids = movies.find({'genres': {'$regex': 'Comedy|Horror'}}).distinct('_id')\n",
    "users_ids = users.distinct('_id')"
   ]
  },
  {
   "cell_type": "code",
   "execution_count": null,
   "id": "c3b7d425-7b6f-412d-9c1d-fb3568b134bd",
   "metadata": {},
   "outputs": [],
   "source": [
    "df = pd.DataFrame(0, index=users_ids, columns=movies_ids)\n",
    "df\n",
    "# a l'aide d'un produit scalaire "
   ]
  },
  {
   "cell_type": "code",
   "execution_count": null,
   "id": "3ed87d81-0e81-42a3-a9d0-847ab88f6733",
   "metadata": {},
   "outputs": [],
   "source": [
    "films = ['film1', 'film2', 'film3']"
   ]
  },
  {
   "cell_type": "code",
   "execution_count": null,
   "id": "beafeaee-ee04-473d-9a65-082ef95020cc",
   "metadata": {},
   "outputs": [],
   "source": [
    "idx = 0\n",
    "for f in films:\n",
    "    print(idx, f)\n",
    "    idx += 1"
   ]
  },
  {
   "cell_type": "code",
   "execution_count": null,
   "id": "10c1b043-240e-4086-81bd-d3fcdd43d538",
   "metadata": {},
   "outputs": [],
   "source": [
    "for idx, f in enumerate(films):\n",
    "    print(idx, f)"
   ]
  },
  {
   "cell_type": "code",
   "execution_count": null,
   "id": "799334ba-7e1d-4b56-939f-d0393b1baa56",
   "metadata": {},
   "outputs": [],
   "source": [
    "for u_id in users_ids:\n",
    "    user = users.find_one({'_id': u_id})\n",
    "\n",
    "    for m in user['movies']:\n",
    "        \n",
    "        m_id = m['movieid']\n",
    "        rating = m['rating']\n",
    "\n",
    "        if m_id in movies_ids:\n",
    "            df.loc[u_id, m_id] = rating"
   ]
  },
  {
   "cell_type": "code",
   "execution_count": null,
   "id": "0d5cb135-f153-4d19-a2fa-0acbd4da8f12",
   "metadata": {},
   "outputs": [],
   "source": [
    "df"
   ]
  },
  {
   "cell_type": "code",
   "execution_count": null,
   "id": "0ecbfcd7-0456-4f53-8413-b02d93a4e75a",
   "metadata": {},
   "outputs": [],
   "source": [
    "df = df[df.sum(axis=1) > 0]\n",
    "df"
   ]
  },
  {
   "cell_type": "code",
   "execution_count": null,
   "id": "b77e92a8-e170-463c-99bf-e7d7af35d2f8",
   "metadata": {},
   "outputs": [],
   "source": [
    "df_sparse = df.astype(pd.SparseDtype(\"float\", 0))"
   ]
  },
  {
   "cell_type": "code",
   "execution_count": null,
   "id": "5d284a02-2f16-44b8-a424-c580e631c9bb",
   "metadata": {},
   "outputs": [],
   "source": [
    "nmf = NMF(n_components=2)\n",
    "\n",
    "# Fit the model to the user-item matrix\n",
    "nmf.fit(df_sparse)\n",
    "\n",
    "U = nmf.transform(df_sparse)  # User matrix\n",
    "M = nmf.components_  # Item matrix\n",
    "\n",
    "pred_matrix = np.dot(U, M)\n",
    "\n",
    "print(mean_squared_error(df_sparse.values, pred_matrix))"
   ]
  },
  {
   "cell_type": "code",
   "execution_count": null,
   "id": "9cee6871-9b4e-4c37-a5d7-f571d5a1bb44",
   "metadata": {},
   "outputs": [],
   "source": [
    "movies_genres = {}\n",
    "\n",
    "for m_id in movies_ids:\n",
    "    cur_movie = movies.find_one({'_id': m_id}, {'genres': 1})\n",
    "    cur_genres = cur_movie['genres']  # Utilisation de crochets [] pour accéder aux valeurs de la clé\n",
    "    if 'Comedy' in cur_genres and 'Horror' in cur_genres:\n",
    "        movies_genres[m_id] = 'red'\n",
    "    elif 'Comedy' in cur_genres:\n",
    "        movies_genres[m_id] = 'lightgreen'\n",
    "    else:\n",
    "        movies_genres[m_id] = 'black'\n",
    "\n",
    "movies_genres\n"
   ]
  },
  {
   "cell_type": "code",
   "execution_count": null,
   "id": "26fe71fe-a7d4-4ef7-bd33-296e93a309f6",
   "metadata": {},
   "outputs": [],
   "source": [
    "# plt.scatter(M[0, :], M[1,:], c=movies_genres.values())\n",
    "import matplotlib.pyplot as plt\n",
    "import mplcursors\n",
    "\n",
    "# Tracer le nuage de points avec les couleurs correspondant aux genres\n",
    "scatter = plt.scatter(M[0, :], M[1, :], c=list(movies_genres.values()))\n",
    "\n",
    "# Définir les informations à afficher lors du survol\n",
    "@scatter.tooltip\n",
    "def on_hover(sel):\n",
    "    index = sel.target.index\n",
    "    movie_id = movies_ids[index]\n",
    "    movie_title = movies.find_one({'_id': movie_id}, {'title': 1})['title']\n",
    "    movie_genre = list(movies_genres.values())[index]\n",
    "    return f\"Film : {movie_title}\\nGenre : {movie_genre}\"\n",
    "\n",
    "# Afficher le graphique\n",
    "plt.xlabel('X')\n",
    "plt.ylabel('Y')\n",
    "plt.title('Scatter plot avec infos sur le hover')\n",
    "mplcursors.cursor(hover=True)\n",
    "plt.show()"
   ]
  },
  {
   "cell_type": "code",
   "execution_count": null,
   "id": "5dcf5b98",
   "metadata": {},
   "outputs": [],
   "source": [
    "import mlflow\n",
    "import mlflow.sklearn\n",
    "from sklearn.model_selection import train_test_split\n",
    "from sklearn.metrics import mean_squared_error\n",
    "from sklearn.ensemble import RandomForestRegressor\n",
    "\n",
    "# Supposons que vous avez déjà chargé vos données dans des variables comme suit :\n",
    "# X_train, X_test, y_train, y_test = ...\n",
    "\n",
    "# Commencez un nouveau run MLflow\n",
    "with mlflow.start_run():\n",
    "\n",
    "    # Définir les paramètres de la run\n",
    "    mlflow.log_param(\"model\", \"RandomForestRegressor\")\n",
    "\n",
    "    # Créer et entraîner le modèle\n",
    "    model = RandomForestRegressor()\n",
    "    model.fit(X_train, y_train)\n",
    "\n",
    "    # Faire des prédictions sur l'ensemble de test\n",
    "    predictions = model.predict(X_test)\n",
    "\n",
    "    # Calculer et enregistrer la métrique MSE\n",
    "    mse = mean_squared_error(y_test, predictions)\n",
    "    mlflow.log_metric(\"mse\", mse)\n",
    "\n",
    "    # Enregistrer le modèle\n",
    "    mlflow.sklearn.log_model(model, \"random_forest_model\")\n",
    "\n",
    "# Fin de la run MLflow\n",
    "\n"
   ]
  },
  {
   "cell_type": "code",
   "execution_count": null,
   "id": "a5f4bf0b-b7e0-48aa-b96f-d78707db21f4",
   "metadata": {},
   "outputs": [],
   "source": []
  },
  {
   "cell_type": "code",
   "execution_count": null,
   "id": "d80177f0-7808-41fa-a951-250e67833fa3",
   "metadata": {},
   "outputs": [],
   "source": [
    "import mlflow\n",
    "import mlflow.sklearn\n",
    "from sklearn.model_selection import train_test_split\n",
    "from sklearn.metrics import mean_squared_error\n",
    "from sklearn.ensemble import RandomForestRegressor\n",
    "\n",
    "# Supposons que vous avez déjà chargé vos données dans des variables comme suit :\n",
    "# X_train, X_test, y_train, y_test = ...\n",
    "\n",
    "# Commencez un nouveau run MLflow\n",
    "with mlflow.start_run():\n",
    "\n",
    "    # Définir les paramètres de la run\n",
    "    mlflow.log_param(\"model\", \"RandomForestRegressor\")\n",
    "\n",
    "    # Créer et entraîner le modèle\n",
    "    model = RandomForestRegressor()\n",
    "    model.fit(X_train, y_train)\n",
    "\n",
    "    # Faire des prédictions sur l'ensemble de test\n",
    "    predictions = model.predict(X_test)\n",
    "\n",
    "    # Calculer et enregistrer la métrique MSE\n",
    "    mse = mean_squared_error(y_test, predictions)\n",
    "    mlflow.log_metric(\"mse\", mse)\n",
    "\n",
    "    # Enregistrer le modèle\n",
    "    mlflow.sklearn.log_model(model, \"random_forest_model\")\n",
    "\n",
    "# Fin de la run MLflow\n"
   ]
  },
  {
   "cell_type": "code",
   "execution_count": null,
   "id": "82bda891-3a0f-425b-b707-f60dc9cb4165",
   "metadata": {},
   "outputs": [],
   "source": []
  }
 ],
 "metadata": {
  "kernelspec": {
   "display_name": "Python 3 (ipykernel)",
   "language": "python",
   "name": "python3"
  },
  "language_info": {
   "codemirror_mode": {
    "name": "ipython",
    "version": 3
   },
   "file_extension": ".py",
   "mimetype": "text/x-python",
   "name": "python",
   "nbconvert_exporter": "python",
   "pygments_lexer": "ipython3",
   "version": "3.11.5"
  }
 },
 "nbformat": 4,
 "nbformat_minor": 5
}
