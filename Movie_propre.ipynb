{
 "cells": [
  {
   "cell_type": "code",
   "execution_count": 1,
   "metadata": {},
   "outputs": [],
   "source": [
    "# Mes imports \n",
    "import sys\n",
    "sys.path.append('../')\n",
    "import numpy as np\n",
    "import pymongo\n",
    "from sklearn.decomposition import NMF\n",
    "from sklearn.metrics import mean_squared_error\n",
    "from sklearn.model_selection import train_test_split\n",
    "import pandas as pd\n",
    "import matplotlib.pyplot as plt\n",
    "import plotly.express as px\n",
    "from scipy.sparse import csr_matrix\n",
    "import os\n",
    "import mlflow\n",
    "import warnings\n",
    "warnings.filterwarnings(\"ignore\")"
   ]
  },
  {
   "cell_type": "code",
   "execution_count": 2,
   "metadata": {},
   "outputs": [
    {
     "data": {
      "text/plain": [
       "<Experiment: artifact_location='mlflow-artifacts:/898185452502227249', creation_time=1707831436199, experiment_id='898185452502227249', last_update_time=1707831436199, lifecycle_stage='active', name='Movielens_NMF_Model', tags={}>"
      ]
     },
     "execution_count": 2,
     "metadata": {},
     "output_type": "execute_result"
    }
   ],
   "source": [
    "#  Je configure mon ml flowww\n",
    "# Configuration initiale de MLflow\n",
    "mlflow.set_tracking_uri(\"http://127.0.0.1:5000/\")\n",
    "mlflow.set_experiment(\"Movielens_NMF_Model\")"
   ]
  },
  {
   "cell_type": "code",
   "execution_count": 3,
   "metadata": {},
   "outputs": [],
   "source": [
    "# Je me connecte a ma database mongo \n",
    "client = pymongo.MongoClient('localhost:27017')\n",
    "db = client['movie']\n",
    "movies = db['movie_json']\n",
    "users = db['user_json']"
   ]
  },
  {
   "cell_type": "code",
   "execution_count": 4,
   "metadata": {},
   "outputs": [
    {
     "name": "stdout",
     "output_type": "stream",
     "text": [
      "   user  movieid  rating  timestamp\n",
      "0  6040      573       4  956704056\n",
      "1  6040      589       4  956704996\n",
      "2  6040        1       3  957717358\n",
      "3  6040     2068       4  997453982\n",
      "4  6040      592       2  956716016\n"
     ]
    }
   ],
   "source": [
    "# Extract the data from MongoDB\n",
    "data = list(users.find())\n",
    "\n",
    "# Create the empty DataFrame with the right columns\n",
    "user_list = []\n",
    "movieid_list = []\n",
    "rating_list = []\n",
    "timestamp_list = []\n",
    "\n",
    "# Parcourir les données et extraire les informations nécessaires\n",
    "for entry in data:\n",
    "    user_id = entry['_id']\n",
    "    for movie in entry['movies']:\n",
    "        user_list.append(user_id)\n",
    "        movieid_list.append(movie['movieid'])\n",
    "        rating_list.append(movie['rating'])\n",
    "        timestamp_list.append(movie['timestamp'])\n",
    "\n",
    "# Créer le DataFrame\n",
    "df = pd.DataFrame({\n",
    "    'user': user_list,\n",
    "    'movieid': movieid_list,\n",
    "    'rating': rating_list,\n",
    "    'timestamp': timestamp_list\n",
    "})\n",
    "\n",
    "# Afficher les premières lignes du DataFrame\n",
    "print(df.head())"
   ]
  },
  {
   "cell_type": "code",
   "execution_count": 5,
   "metadata": {},
   "outputs": [
    {
     "ename": "SyntaxError",
     "evalue": "invalid syntax (3388760478.py, line 5)",
     "output_type": "error",
     "traceback": [
      "\u001b[1;36m  Cell \u001b[1;32mIn[5], line 5\u001b[1;36m\u001b[0m\n\u001b[1;33m    df_sorted = df_sorted[df_sorted.sum(axis=1)>]\u001b[0m\n\u001b[1;37m                                                ^\u001b[0m\n\u001b[1;31mSyntaxError\u001b[0m\u001b[1;31m:\u001b[0m invalid syntax\n"
     ]
    }
   ],
   "source": [
    "# Je split ma data \n",
    "# La je trie en fonction de la data\n",
    "df_sorted = df.sort_values(by='timestamp')\n",
    "print(df_sorted.head(10))\n",
    "df_sorted = df_sorted[df_sorted.sum(axis=1)>]\n"
   ]
  }
 ],
 "metadata": {
  "kernelspec": {
   "display_name": "Python 3",
   "language": "python",
   "name": "python3"
  },
  "language_info": {
   "codemirror_mode": {
    "name": "ipython",
    "version": 3
   },
   "file_extension": ".py",
   "mimetype": "text/x-python",
   "name": "python",
   "nbconvert_exporter": "python",
   "pygments_lexer": "ipython3",
   "version": "3.11.8"
  }
 },
 "nbformat": 4,
 "nbformat_minor": 2
}
