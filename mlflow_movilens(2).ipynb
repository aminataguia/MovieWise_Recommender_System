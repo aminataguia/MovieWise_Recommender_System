{
 "cells": [
  {
   "cell_type": "markdown",
   "metadata": {},
   "source": [
    "# Mes imports "
   ]
  },
  {
   "cell_type": "code",
   "execution_count": 11,
   "metadata": {},
   "outputs": [],
   "source": [
    "\n",
    "import sys\n",
    "sys.path.append('../')\n",
    "import numpy as np\n",
    "import pymongo\n",
    "from sklearn.decomposition import NMF\n",
    "from sklearn.metrics import mean_squared_error\n",
    "from sklearn.model_selection import train_test_split\n",
    "import pandas as pd\n",
    "import matplotlib.pyplot as plt\n",
    "import plotly.express as px\n",
    "from scipy.sparse import csr_matrix\n",
    "import os\n",
    "import mlflow\n",
    "import warnings\n",
    "warnings.filterwarnings(\"ignore\")"
   ]
  },
  {
   "cell_type": "markdown",
   "metadata": {},
   "source": [
    "### Connexion à la db"
   ]
  },
  {
   "cell_type": "code",
   "execution_count": 12,
   "metadata": {},
   "outputs": [],
   "source": [
    "# Je me connecte a ma database mongo \n",
    "client = pymongo.MongoClient('localhost:27017')\n",
    "db = client['movie']\n",
    "movies = db['movie_json']\n",
    "users = db['user_json']"
   ]
  },
  {
   "cell_type": "markdown",
   "metadata": {},
   "source": [
    "### Construire une liste à plat: user / movieid / rating / timestamp"
   ]
  },
  {
   "cell_type": "code",
   "execution_count": 13,
   "metadata": {},
   "outputs": [
    {
     "name": "stdout",
     "output_type": "stream",
     "text": [
      "   user  movieid  rating           timestamp\n",
      "0  6040      573       4 2000-04-25 23:07:36\n",
      "1  6040      589       4 2000-04-25 23:23:16\n",
      "2  6040        1       3 2000-05-07 16:35:58\n",
      "3  6040     2068       4 2001-08-10 14:33:02\n",
      "4  6040      592       2 2000-04-26 02:26:56\n"
     ]
    }
   ],
   "source": [
    "# Extraire les données de la collection\n",
    "data = list(users.find())\n",
    "\n",
    "# Créer une liste vide pour chaque colonne du DataFrame\n",
    "user_list = []\n",
    "movieid_list = []\n",
    "rating_list = []\n",
    "timestamp_list = []\n",
    "\n",
    "# Parcourir les données et extraire les informations nécessaires\n",
    "for entry in data:\n",
    "    user_id = entry['_id']\n",
    "    for movie in entry['movies']:\n",
    "        user_list.append(user_id)\n",
    "        movieid_list.append(movie['movieid'])\n",
    "        rating_list.append(movie['rating'])\n",
    "        timestamp_list.append(movie['timestamp'])\n",
    "\n",
    "# Créer le DataFrame\n",
    "df2 = pd.DataFrame({\n",
    "    'user': user_list,\n",
    "    'movieid': movieid_list,\n",
    "    'rating': rating_list,\n",
    "    'timestamp': timestamp_list\n",
    "})\n",
    "\n",
    "# Convertir le timestamp en datetime\n",
    "df2['timestamp'] = pd.to_datetime(df2['timestamp'], unit='s')\n",
    "\n",
    "# Afficher les premières lignes du DataFrame\n",
    "print(df2.head())\n"
   ]
  },
  {
   "cell_type": "code",
   "execution_count": 14,
   "metadata": {},
   "outputs": [
    {
     "name": "stdout",
     "output_type": "stream",
     "text": [
      "(1000209, 4)\n",
      "user                           1\n",
      "movieid                        1\n",
      "rating                         1\n",
      "timestamp    2000-04-25 23:05:32\n",
      "dtype: object\n"
     ]
    }
   ],
   "source": [
    "print(df2.shape)\n",
    "print(df2.min())"
   ]
  },
  {
   "cell_type": "code",
   "execution_count": 15,
   "metadata": {},
   "outputs": [
    {
     "name": "stdout",
     "output_type": "stream",
     "text": [
      "     user  movieid  rating           timestamp\n",
      "270  6040      858       4 2000-04-25 23:05:32\n",
      "285  6040     2384       4 2000-04-25 23:05:54\n",
      "5    6040      593       5 2000-04-25 23:05:54\n",
      "324  6040     2019       5 2000-04-25 23:06:17\n",
      "139  6040     1961       4 2000-04-25 23:06:17\n"
     ]
    }
   ],
   "source": [
    "df_sorted = df2.sort_values(by='timestamp')\n",
    "print(df_sorted.head())"
   ]
  },
  {
   "cell_type": "code",
   "execution_count": 16,
   "metadata": {},
   "outputs": [],
   "source": [
    "def partition(df, test_size=0.2, mini_size=0.03):\n",
    "    # Partition the dataset into a training set and a test set\n",
    "    train_data, test_data = train_test_split(df, test_size=test_size, random_state=42)\n",
    "\n",
    "    # Reduce the size of the training set and the test set for better performance\n",
    "    train_mini = train_data[:int(mini_size * len(train_data))]\n",
    "    test_mini = test_data[:int(mini_size * len(test_data))]\n",
    "\n",
    "    return train_data, test_data, train_mini, test_mini"
   ]
  },
  {
   "cell_type": "code",
   "execution_count": 17,
   "metadata": {},
   "outputs": [],
   "source": [
    "def partition_time(df,mini_size=0.8):\n",
    "    df_sorted = df.sort_values(by='timestamp')\n",
    "    train_size = int(len(df_sorted) * mini_size)\n",
    "    train_df = df_sorted[:train_size]\n",
    "    test_df = df_sorted[train_size:]\n",
    "    return train_df, test_df"
   ]
  },
  {
   "cell_type": "markdown",
   "metadata": {},
   "source": [
    "### Splitter les données en test et train"
   ]
  },
  {
   "cell_type": "code",
   "execution_count": 18,
   "metadata": {},
   "outputs": [],
   "source": [
    "# # Calculate the index where 80% of the data ends\n",
    "# train_size = int(0.8 * len(df2))\n",
    "\n",
    "# # Split the dataframe\n",
    "# df_train = df_sorted[:train_size]\n",
    "# df_test = df_sorted[train_size:]\n",
    "\n",
    "# # train_df will contain 80% of the data based on timestamp for training\n",
    "# # test_df will contain 20% of the data based on timestamp for testing\n",
    "# print(df_train.head())\n",
    "# print(df_test.head())"
   ]
  },
  {
   "cell_type": "code",
   "execution_count": 19,
   "metadata": {},
   "outputs": [
    {
     "name": "stdout",
     "output_type": "stream",
     "text": [
      "     user  movieid  rating           timestamp\n",
      "270  6040      858       4 2000-04-25 23:05:32\n",
      "285  6040     2384       4 2000-04-25 23:05:54\n",
      "5    6040      593       5 2000-04-25 23:05:54\n",
      "324  6040     2019       5 2000-04-25 23:06:17\n",
      "139  6040     1961       4 2000-04-25 23:06:17\n",
      "        user  movieid  rating           timestamp\n",
      "248292  4482      627       4 2000-08-01 03:39:16\n",
      "258716  4430     2686       4 2000-08-01 03:39:24\n",
      "258774  4430      150       2 2000-08-01 03:39:24\n",
      "258654  4430       45       2 2000-08-01 03:39:24\n",
      "258745  4430     2329       2 2000-08-01 03:39:24\n"
     ]
    }
   ],
   "source": [
    "train_size = 0.8\n",
    "split_index = int(train_size * len(df2))\n",
    "# Split the data into train and test sets\n",
    "train_df = df_sorted[:226331]\n",
    "test_df = df_sorted[226331:256331]\n",
    "print(train_df.head())\n",
    "print(test_df.head())"
   ]
  },
  {
   "cell_type": "code",
   "execution_count": 20,
   "metadata": {},
   "outputs": [
    {
     "name": "stdout",
     "output_type": "stream",
     "text": [
      "Taille de l'ensemble d'entraînement initial : 800167\n",
      "Taille de l'ensemble de test initial : 200042\n",
      "Taille du sous-ensemble d'entraînement réduit : 24005\n",
      "Taille du sous-ensemble de test réduit : 6001\n"
     ]
    }
   ],
   "source": [
    "# Appeler la fonction partition avec votre DataFrame\n",
    "train_data, test_data, train_mini, test_mini = partition(df2, test_size=0.2, mini_size=0.03)\n",
    "\n",
    "# Utiliser les ensembles de données retournés\n",
    "# Par exemple, pour accéder aux données d'entraînement initiales :\n",
    "print(\"Taille de l'ensemble d'entraînement initial :\", len(train_data))\n",
    "print(\"Taille de l'ensemble de test initial :\", len(test_data))\n",
    "\n",
    "# Pour accéder aux sous-ensembles réduits :\n",
    "print(\"Taille du sous-ensemble d'entraînement réduit :\", len(train_mini))\n",
    "print(\"Taille du sous-ensemble de test réduit :\", len(test_mini))"
   ]
  },
  {
   "cell_type": "code",
   "execution_count": 23,
   "metadata": {},
   "outputs": [
    {
     "name": "stdout",
     "output_type": "stream",
     "text": [
      "Nombre d'utilisateurs dans le train mais pas dans le test : 1560\n",
      "Nombre d'utilisateurs dans le test mais pas dans le train : 218\n"
     ]
    }
   ],
   "source": [
    "# Créer un ensemble d'utilisateurs pour chaque DataFrame\n",
    "users_train = set(train_df['user'])\n",
    "users_test = set(test_df['user'])\n",
    "\n",
    "# Trouver les utilisateurs communs\n",
    "users_common = users_train.intersection(users_test)\n",
    "\n",
    "# Calculer les utilisateurs dans le train mais pas dans le test\n",
    "users_train_not_in_test = users_train - users_test\n",
    "num_users_train_not_in_test = len(users_train_not_in_test)\n",
    "\n",
    "# Calculer les utilisateurs dans le test mais pas dans le train\n",
    "users_test_not_in_train = users_test - users_train\n",
    "num_users_test_not_in_train = len(users_test_not_in_train)\n",
    "\n",
    "print(\"Nombre d'utilisateurs dans le train mais pas dans le test :\", num_users_train_not_in_test)\n",
    "print(\"Nombre d'utilisateurs dans le test mais pas dans le train :\", num_users_test_not_in_train)"
   ]
  },
  {
   "cell_type": "code",
   "execution_count": 26,
   "metadata": {},
   "outputs": [
    {
     "name": "stdout",
     "output_type": "stream",
     "text": [
      "Nombre d'utilisateurs communs aux deux DataFrames : 50\n"
     ]
    },
    {
     "ename": "NameError",
     "evalue": "name 'df_test' is not defined",
     "output_type": "error",
     "traceback": [
      "\u001b[1;31m---------------------------------------------------------------------------\u001b[0m",
      "\u001b[1;31mNameError\u001b[0m                                 Traceback (most recent call last)",
      "Cell \u001b[1;32mIn[26], line 6\u001b[0m\n\u001b[0;32m      3\u001b[0m \u001b[38;5;28mprint\u001b[39m(\u001b[38;5;124m\"\u001b[39m\u001b[38;5;124mNombre d\u001b[39m\u001b[38;5;124m'\u001b[39m\u001b[38;5;124mutilisateurs communs aux deux DataFrames :\u001b[39m\u001b[38;5;124m\"\u001b[39m, \u001b[38;5;28mlen\u001b[39m(users_common))\n\u001b[0;32m      5\u001b[0m \u001b[38;5;66;03m# Filtrer les lignes de df_test pour lesquelles 'user' est dans users_common_list\u001b[39;00m\n\u001b[1;32m----> 6\u001b[0m df_test_filtered_user \u001b[38;5;241m=\u001b[39m \u001b[43mdf_test\u001b[49m[df_test[\u001b[38;5;124m'\u001b[39m\u001b[38;5;124muser\u001b[39m\u001b[38;5;124m'\u001b[39m]\u001b[38;5;241m.\u001b[39misin(users_common_list)]\n\u001b[0;32m      8\u001b[0m \u001b[38;5;66;03m# Filtrer les lignes de df_test pour lesquelles 'movies' est dans users_common_list\u001b[39;00m\n\u001b[0;32m      9\u001b[0m df_test_filtered \u001b[38;5;241m=\u001b[39m df_test_filtered_user[df_test_filtered_user[\u001b[38;5;124m'\u001b[39m\u001b[38;5;124mmovieid\u001b[39m\u001b[38;5;124m'\u001b[39m]\u001b[38;5;241m.\u001b[39misin(movies_common_list)]\n",
      "\u001b[1;31mNameError\u001b[0m: name 'df_test' is not defined"
     ]
    }
   ],
   "source": [
    "# Convertir l'ensemble en liste si nécessaire\n",
    "users_common_list = list(users_common)\n",
    "print(\"Nombre d'utilisateurs communs aux deux DataFrames :\", len(users_common))\n",
    "\n",
    "# Filtrer les lignes de test_df pour lesquelles 'user' est dans users_common_list\n",
    "test_df_filtered_user = df_test[df_test['user'].isin(users_common_list)]\n",
    "\n",
    "# Filtrer les lignes de df_test pour lesquelles 'movies' est dans users_common_list\n",
    "df_test_filtered = df_test_filtered_user[df_test_filtered_user['movieid'].isin(movies_common_list)]\n",
    "\n",
    "# Afficher le DataFrame filtré\n",
    "print(test_df)\n",
    "print(df_test_filtered)"
   ]
  },
  {
   "cell_type": "code",
   "execution_count": 25,
   "metadata": {},
   "outputs": [
    {
     "name": "stdout",
     "output_type": "stream",
     "text": [
      "Nombre d'utilisateurs communs aux deux DataFrames : 50\n",
      "        user  movieid  rating           timestamp\n",
      "248292  4482      627       4 2000-08-01 03:39:16\n",
      "258716  4430     2686       4 2000-08-01 03:39:24\n",
      "258774  4430      150       2 2000-08-01 03:39:24\n",
      "258654  4430       45       2 2000-08-01 03:39:24\n",
      "258745  4430     2329       2 2000-08-01 03:39:24\n",
      "...      ...      ...     ...                 ...\n",
      "295654  4224     1801       4 2000-08-03 16:04:23\n",
      "295776  4224       74       3 2000-08-03 16:04:23\n",
      "295713  4224     1550       3 2000-08-03 16:04:23\n",
      "295656  4224      207       2 2000-08-03 16:04:23\n",
      "295869  4224      140       3 2000-08-03 16:04:23\n",
      "\n",
      "[30000 rows x 4 columns]\n",
      "        user  movieid  rating           timestamp\n",
      "248292  4482      627       4 2000-08-01 03:39:16\n",
      "258716  4430     2686       4 2000-08-01 03:39:24\n",
      "258774  4430      150       2 2000-08-01 03:39:24\n",
      "258654  4430       45       2 2000-08-01 03:39:24\n",
      "258745  4430     2329       2 2000-08-01 03:39:24\n",
      "...      ...      ...     ...                 ...\n",
      "214904  4689     2723       4 2000-08-03 07:21:40\n",
      "214881  4689     1243       5 2000-08-03 07:23:11\n",
      "214854  4689      653       3 2000-08-03 07:34:51\n",
      "63216   5653     3624       4 2000-08-03 14:13:34\n",
      "124359  5289     3783       4 2000-08-03 15:08:01\n",
      "\n",
      "[2630 rows x 4 columns]\n"
     ]
    }
   ],
   "source": [
    "# Convertir l'ensemble en liste si nécessaire\n",
    "users_common = users_train.intersection(users_test)\n",
    "users_common_list = list(users_common)\n",
    "print(\"Nombre d'utilisateurs communs aux deux DataFrames :\", len(users_common))\n",
    "\n",
    "# Filtrer les lignes de test_df pour lesquelles 'user' est dans users_common_list\n",
    "test_df_filtered_user = test_df[test_df['user'].isin(users_common_list)]\n",
    "\n",
    "# Filtrer les lignes de test_df pour lesquelles 'movies' est dans users_common_list\n",
    "test_df_filtered = test_df_filtered_user[test_df_filtered_user['movieid'].isin(movies_common_list)]\n",
    "\n",
    "# Afficher le DataFrame filtré\n",
    "print(test_df)\n",
    "print(test_df_filtered)"
   ]
  },
  {
   "cell_type": "code",
   "execution_count": null,
   "metadata": {},
   "outputs": [],
   "source": [
    "# Appeler la fonction partition_time avec votre DataFrame\n",
    "train_df, test_df = partition_time(df2, mini_size=0.8)\n",
    "\n",
    "# Utiliser les ensembles de données retournés\n",
    "# Par exemple, pour accéder aux données d'entraînement :\n",
    "print(\"Taille de l'ensemble d'entraînement :\", len(train_df))\n",
    "\n",
    "# Pour accéder aux données de test :\n",
    "print(\"Taille de l'ensemble de test :\", len(test_df))"
   ]
  },
  {
   "cell_type": "code",
   "execution_count": null,
   "metadata": {},
   "outputs": [],
   "source": [
    "df_train.shape, df_test.shape"
   ]
  },
  {
   "cell_type": "markdown",
   "metadata": {},
   "source": [
    "### utilisateurs en commun "
   ]
  },
  {
   "cell_type": "markdown",
   "metadata": {},
   "source": [
    "### Films en commun"
   ]
  },
  {
   "cell_type": "code",
   "execution_count": 24,
   "metadata": {},
   "outputs": [
    {
     "name": "stdout",
     "output_type": "stream",
     "text": [
      "Nombre de films commun aux deux DataFrames : 2681\n",
      "Nombre de films dans le train mais pas dans le test : 641\n",
      "Nombre de films  dans le test mais pas dans le train : 26\n"
     ]
    }
   ],
   "source": [
    "# Créer un ensemble de movies pour chaque DataFrame\n",
    "movies_train = set(train_df['movieid'])\n",
    "movies_test = set(test_df['movieid'])\n",
    "\n",
    "# Trouver les movies communs\n",
    "movies_common = movies_train.intersection(movies_test)\n",
    "\n",
    "# Convertir l'ensemble en liste si nécessaire\n",
    "movies_common_list = list(movies_common)\n",
    "print(\"Nombre de films commun aux deux DataFrames :\", len(movies_common))\n",
    "\n",
    "# Calculer les utilisateurs dans le train mais pas dans le test\n",
    "movies_train_not_in_test = movies_train - movies_test\n",
    "num_movies_train_not_in_test = len(movies_train_not_in_test)\n",
    "\n",
    "# Calculer les utilisateurs dans le test mais pas dans le train\n",
    "movies_train_not_in_train = movies_test - movies_train\n",
    "num_movies_test_not_in_train = len(movies_train_not_in_train)\n",
    "\n",
    "print(\"Nombre de films dans le train mais pas dans le test :\", num_movies_train_not_in_test)\n",
    "print(\"Nombre de films  dans le test mais pas dans le train :\", num_movies_test_not_in_train)"
   ]
  },
  {
   "cell_type": "markdown",
   "metadata": {},
   "source": [
    "### Clean des données (user et movie) de TEST qui ne sont pas inclus dans train"
   ]
  },
  {
   "cell_type": "code",
   "execution_count": null,
   "metadata": {},
   "outputs": [],
   "source": []
  },
  {
   "cell_type": "markdown",
   "metadata": {},
   "source": [
    "### Trouver l'utilisateur commun qui a vu le + de film dans le df_test"
   ]
  },
  {
   "cell_type": "code",
   "execution_count": null,
   "metadata": {},
   "outputs": [],
   "source": [
    "films_vus_par_utilisateur = df_test_filtered.groupby('user')['movieid'].count()\n",
    "\n",
    "# Filtrer les films vus par les utilisateurs communs\n",
    "films_vus_par_utilisateur_common = films_vus_par_utilisateur[users_common_list]\n",
    "\n",
    "# Trouver l'utilisateur avec le plus grand nombre de films vus\n",
    "utilisateur_max_films_vus = films_vus_par_utilisateur_common.idxmax()\n",
    "\n",
    "# Afficher l'utilisateur avec le plus grand nombre de films vus\n",
    "print(\"L'utilisateur avec le plus grand nombre de films vus dans df_test est :\", utilisateur_max_films_vus)"
   ]
  },
  {
   "cell_type": "code",
   "execution_count": null,
   "metadata": {},
   "outputs": [],
   "source": [
    "# Filtrer les lignes où la colonne 'user' est égale à 1088\n",
    "df_test_user_1088 = df_test.loc[df_test['user'] == 1088]\n",
    "\n",
    "# Afficher les lignes filtrées\n",
    "print(df_test_user_1088)"
   ]
  },
  {
   "cell_type": "code",
   "execution_count": null,
   "metadata": {},
   "outputs": [],
   "source": [
    "# Filtrer les lignes où la colonne 'user' est égale à 1680 dans la base de test\n",
    "df_train_user_1080 = df_train[df_train['user'] == 1680]\n",
    "\n",
    "# Compter le nombre de lignes (films) dans le dataframe filtré\n",
    "nombre_films_vus_par_user_1080 = len(df_train_user_1080)\n",
    "\n",
    "print(\"Nombre de films vus par l'utilisateur 1080 dans la base de train :\", nombre_films_vus_par_user_1080)"
   ]
  },
  {
   "cell_type": "code",
   "execution_count": null,
   "metadata": {},
   "outputs": [],
   "source": [
    "user_to_check = 1088\n",
    "if user_to_check in users_common_list:\n",
    "    print(\"L'utilisateur\", user_to_check, \"est dans la liste des utilisateurs communs.\")\n",
    "else:\n",
    "    print(\"L'utilisateur\", user_to_check, \"n'est pas dans la liste des utilisateurs communs.\")"
   ]
  },
  {
   "cell_type": "markdown",
   "metadata": {},
   "source": [
    "### Trouver l'utilisateur commun qui a vu le + de film dans le df_train"
   ]
  },
  {
   "cell_type": "code",
   "execution_count": null,
   "metadata": {},
   "outputs": [],
   "source": [
    "# Calculer le nombre de films vus par utilisateur dans le dataframe d'entraînement réel\n",
    "films_vus_par_utilisateur_train = df_train.groupby('user')['movieid'].count()\n",
    "\n",
    "# Filtrer les films vus par les utilisateurs communs\n",
    "films_vus_par_utilisateur_common_train = films_vus_par_utilisateur_train[users_common_list]\n",
    "\n",
    "# Trouver l'utilisateur avec le plus grand nombre de films vus dans l'ensemble d'entraînement réel\n",
    "utilisateur_max_films_vus_train = films_vus_par_utilisateur_common_train.idxmax()\n",
    "\n",
    "# Afficher l'utilisateur avec le plus grand nombre de films vus dans l'ensemble d'entraînement réel\n",
    "print(\"L'utilisateur avec le plus grand nombre de films vus dans df_train est :\", utilisateur_max_films_vus_train)\n"
   ]
  },
  {
   "cell_type": "code",
   "execution_count": null,
   "metadata": {},
   "outputs": [],
   "source": [
    "# Filtrer les lignes où la colonne 'user' est égale à 1680 dans la base d'entraînement réelle\n",
    "df_train_user_1680 = df_train.loc[df_train['user'] == 1680]\n",
    "\n",
    "# Afficher les lignes filtrées\n",
    "print(df_train_user_1680)\n"
   ]
  },
  {
   "cell_type": "code",
   "execution_count": null,
   "metadata": {},
   "outputs": [],
   "source": [
    "user_to_check = 1680\n",
    "if user_to_check in users_common_list:\n",
    "    print(\"L'utilisateur\", user_to_check, \"est dans la liste des utilisateurs communs.\")\n",
    "else:\n",
    "    print(\"L'utilisateur\", user_to_check, \"n'est pas dans la liste des utilisateurs communs.\")"
   ]
  },
  {
   "cell_type": "code",
   "execution_count": null,
   "metadata": {},
   "outputs": [],
   "source": [
    "# Filtrer les lignes où la colonne 'user' est égale à 1680 dans la base de test\n",
    "df_test_user_1680 = df_test[df_test['user'] == 1680]\n",
    "\n",
    "# Compter le nombre de lignes (films) dans le dataframe filtré\n",
    "nombre_films_vus_par_user_1680 = len(df_test_user_1680)\n",
    "\n",
    "# Afficher le nombre de films vus par l'utilisateur 1680 dans la base de test\n",
    "print(\"Nombre de films vus par l'utilisateur 1680 dans la base de test :\", nombre_films_vus_par_user_1680)\n"
   ]
  },
  {
   "cell_type": "markdown",
   "metadata": {},
   "source": [
    "### Obtenir une matrice de rating réel"
   ]
  },
  {
   "cell_type": "code",
   "execution_count": null,
   "metadata": {},
   "outputs": [],
   "source": [
    "df_train_matrix = pd.pivot_table(df_train, index='user', columns= 'movieid', values = 'rating', fill_value=0)\n",
    "\n",
    "#suppression des user qui auraient 0 notes\n",
    "df_train_matrix = df_train_matrix[df_train_matrix.sum(axis=1) > 0]\n",
    "df_train_matrix"
   ]
  },
  {
   "cell_type": "code",
   "execution_count": null,
   "metadata": {},
   "outputs": [],
   "source": [
    "# Calcul du nombre total d'éléments\n",
    "total_elements = df_train_matrix.size\n",
    "\n",
    "# Calcul du nombre de zéros\n",
    "nombre_zeros = np.count_nonzero(df_train_matrix == 0)\n",
    "\n",
    "# Calcul de la sparsité\n",
    "sparsité = (nombre_zeros / total_elements) * 100\n",
    "\n",
    "print(\"nombre de zeros : \", nombre_zeros)\n",
    "print(\"total d'elements : \", total_elements)\n",
    "print(\"Sparsité de la matrice : {:.0f}%\".format(sparsité))"
   ]
  },
  {
   "cell_type": "code",
   "execution_count": null,
   "metadata": {},
   "outputs": [],
   "source": [
    "df_sparse = df_train_matrix.astype(pd.SparseDtype(\"float64\", 0))\n",
    "df_sparse"
   ]
  },
  {
   "cell_type": "code",
   "execution_count": null,
   "metadata": {},
   "outputs": [],
   "source": [
    "component = 50\n",
    "iteration = 200\n",
    "\n",
    "params = {\n",
    "    'n_components' : component,\n",
    "    'max_iter' : iteration\n",
    "}\n",
    "\n",
    "# Entrainement du modèle\n",
    "nmf = NMF(**params)\n",
    "nmf.fit(df_sparse)\n",
    "\n",
    "# Faire des prédictions sur les données de test \n",
    "U = nmf.transform(df_sparse)\n",
    "M = nmf.components_ #this are the movies and can not change from the database predict to the database test or transform the perimeter has to be the same as the fit datatbase\n",
    "pred_matrix = np.dot(U, M) #this is giving for each user a rating for ALL the movies\n",
    "# we transform the pred_matrix into a dataframe in columns to make sure we can compare training database with the predict results\n",
    "pred_matrix = pd.DataFrame(pred_matrix, index=df_sparse.index, columns=df_sparse.columns)\n",
    "pred_matrix"
   ]
  },
  {
   "cell_type": "code",
   "execution_count": null,
   "metadata": {},
   "outputs": [],
   "source": [
    "# # Normalisation des prédictions\n",
    "# from sklearn.preprocessing import MinMaxScaler\n",
    "# scaler = MinMaxScaler()\n",
    "# scaled_predictions = scaler.fit_transform(pred_matrix)\n",
    "# scaled_predictions_df = pd.DataFrame(scaled_predictions, index=df_sparse.index, columns=df_sparse.columns)"
   ]
  },
  {
   "cell_type": "code",
   "execution_count": null,
   "metadata": {},
   "outputs": [],
   "source": [
    "# Comparaison avec les données d'entraînement\n",
    "# df_depivoted = scaled_predictions_df.stack().reset_index()\n",
    "df_depivoted = pred_matrix.stack().reset_index()\n",
    "df_depivoted.columns = ['user', 'movieid', 'predict']\n",
    "df_depivoted"
   ]
  },
  {
   "cell_type": "code",
   "execution_count": null,
   "metadata": {},
   "outputs": [],
   "source": [
    "df_train\n",
    "df_train.describe()"
   ]
  },
  {
   "cell_type": "code",
   "execution_count": null,
   "metadata": {},
   "outputs": [],
   "source": [
    "# Intégration avec les données d'entraînement\n",
    "df_compare = pd.merge(df_depivoted,df_train, how='inner', on=['user', 'movieid'])\n",
    "df_compare['delta'] = df_compare['rating'] / df_compare['predict']\n",
    "df_compare "
   ]
  },
  {
   "cell_type": "code",
   "execution_count": null,
   "metadata": {},
   "outputs": [],
   "source": [
    "# calcule la moyenne des écarts au carré entre les vraies valeurs de notation et les valeurs prédites\n",
    "mse = mean_squared_error(df_compare['rating'], df_compare['predict'])\n",
    "# mesure de l'erreur moyenne entre les valeurs prédites et les valeurs réelles\n",
    "delta_mse = np.sqrt(mean_squared_error(df_compare['rating'], df_compare['predict']))\n",
    "print('delta mse train: ', delta_mse)\n",
    "print('mse train : ',mse)"
   ]
  },
  {
   "cell_type": "markdown",
   "metadata": {},
   "source": [
    "### Calcul du top 10"
   ]
  },
  {
   "cell_type": "code",
   "execution_count": null,
   "metadata": {},
   "outputs": [],
   "source": [
    "df_predict_notseen_movies = df_depivoted.drop(df_compare.index)\n",
    "df_predict_notseen_movies.describe()"
   ]
  },
  {
   "cell_type": "code",
   "execution_count": null,
   "metadata": {},
   "outputs": [],
   "source": [
    "df_predict_notseen_movies"
   ]
  },
  {
   "cell_type": "code",
   "execution_count": null,
   "metadata": {},
   "outputs": [],
   "source": [
    "# Join unpivoted predictions with the original train_df\n",
    "df_pred_vs_test = df_predict_notseen_movies.merge(df_test_filtered, on=['user', 'movieid'])\n",
    "df_pred_vs_test"
   ]
  },
  {
   "cell_type": "code",
   "execution_count": null,
   "metadata": {},
   "outputs": [],
   "source": [
    "# Sorting my df_pred by ascending users and descending scores\n",
    "df_pred_vs_test.sort_values(by=['user', 'predict'], ascending=[True, False], inplace=True)\n",
    "df_pred_vs_test"
   ]
  },
  {
   "cell_type": "code",
   "execution_count": null,
   "metadata": {},
   "outputs": [],
   "source": [
    "df_pred_vs_test.describe()"
   ]
  },
  {
   "cell_type": "code",
   "execution_count": null,
   "metadata": {},
   "outputs": [],
   "source": [
    "# Filtering to only keep the 10 best scores for each user\n",
    "top_10_per_user = df_pred_vs_test.sort_values(by=['user', 'predict'], ascending=[True, False]) \\\n",
    "                         .groupby('user').head(10)\n",
    "\n",
    "top_10_per_user"
   ]
  },
  {
   "cell_type": "code",
   "execution_count": null,
   "metadata": {},
   "outputs": [],
   "source": [
    "# Using my top 10 movies to check my model performance\n",
    "average_rating = top_10_per_user['rating'].mean()\n",
    "diff_rating = 5 - average_rating\n",
    "print(\"Average rating:\", average_rating)\n",
    "print(\"Difference from 5:\", diff_rating)"
   ]
  },
  {
   "cell_type": "code",
   "execution_count": null,
   "metadata": {},
   "outputs": [],
   "source": [
    "# Filtrage pour ne conserver que les 10 pires scores pour chaque utilisateur\n",
    "bad_10_per_user = df_pred_vs_test.sort_values(by=['user', 'predict'], ascending=[True, False]) \\\n",
    "                                  .groupby('user').tail(10)\n",
    "\n",
    "bad_10_per_user"
   ]
  },
  {
   "cell_type": "code",
   "execution_count": null,
   "metadata": {},
   "outputs": [],
   "source": [
    "# Using my top 10 movies to check my model performance\n",
    "average_rating_bad = bad_10_per_user['rating'].mean()\n",
    "diff_rating_bad =  average_rating_bad\n",
    "print(\"Average rating:\", average_rating_bad)\n",
    "print(\"Difference from 2:\", diff_rating_bad)"
   ]
  },
  {
   "cell_type": "code",
   "execution_count": null,
   "metadata": {},
   "outputs": [],
   "source": [
    "os.environ[\"GIT_PYTHON_REFRESH\"] = \"quiet\""
   ]
  },
  {
   "cell_type": "code",
   "execution_count": null,
   "metadata": {},
   "outputs": [],
   "source": [
    "mlflow.set_tracking_uri(uri=\"http://127.0.0.1:5000\")\n",
    "\n",
    "# Start an MLflow run\n",
    "with mlflow.start_run():\n",
    "    # Log the hyperparameters\n",
    "    mlflow.log_params(params)\n",
    "\n",
    "    # Log the loss metrics\n",
    "    mlflow.log_metric(\"mse\", mse)\n",
    "    mlflow.log_metric(\"delta mse\", delta_mse)\n",
    "    mlflow.log_metric(\"average_rating\", average_rating)\n",
    "    mlflow.log_metric(\"rating_diff\", diff_rating)\n",
    "    mlflow.log_metric(\"average_rating_bad\", average_rating_bad)\n",
    "    mlflow.log_metric(\"rating_diff_bad\", diff_rating_bad)\n",
    "\n",
    "    # Set a tag that we can use to remind ourselves what this run was for\n",
    "    mlflow.set_tag(\"On training datas\", f\"On the training database, components {component}, iteration {iteration} \")\n",
    "\n",
    "    # Log the model\n",
    "    model_info = mlflow.sklearn.log_model(\n",
    "        sk_model=NMF,\n",
    "        artifact_path=\"NMF_Model\",\n",
    "        signature=False,\n",
    "        input_example=df_train_matrix,\n",
    "        registered_model_name=f\"NMF_on_train_movies_users {component} components and {iteration} iteration max\",\n",
    "    )\n"
   ]
  },
  {
   "cell_type": "code",
   "execution_count": null,
   "metadata": {},
   "outputs": [],
   "source": []
  },
  {
   "cell_type": "code",
   "execution_count": null,
   "metadata": {},
   "outputs": [],
   "source": []
  }
 ],
 "metadata": {
  "kernelspec": {
   "display_name": "base",
   "language": "python",
   "name": "python3"
  },
  "language_info": {
   "codemirror_mode": {
    "name": "ipython",
    "version": 3
   },
   "file_extension": ".py",
   "mimetype": "text/x-python",
   "name": "python",
   "nbconvert_exporter": "python",
   "pygments_lexer": "ipython3",
   "version": "3.11.8"
  }
 },
 "nbformat": 4,
 "nbformat_minor": 2
}
